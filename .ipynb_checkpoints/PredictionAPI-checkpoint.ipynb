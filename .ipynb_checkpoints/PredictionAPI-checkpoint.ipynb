{
 "cells": [
  {
   "cell_type": "code",
   "execution_count": 49,
   "metadata": {},
   "outputs": [],
   "source": [
    "from fastai import *\n",
    "from fastai.vision import *\n",
    "from torch import topk\n",
    "import urllib.request\n",
    "import requests\n",
    "import json"
   ]
  },
  {
   "cell_type": "code",
   "execution_count": 106,
   "metadata": {},
   "outputs": [],
   "source": [
    "classes = ['Gut', 'Mittel', 'Schlecht', 'Sehr_Gut']"
   ]
  },
  {
   "cell_type": "code",
   "execution_count": 50,
   "metadata": {},
   "outputs": [],
   "source": [
    "learn = load_learner(\"data_dir\")"
   ]
  },
  {
   "cell_type": "code",
   "execution_count": 51,
   "metadata": {},
   "outputs": [],
   "source": [
    "mapbox_geocode = \"https://api.mapbox.com/geocoding/v5/mapbox.places/{address}.json?access_token={API_KEY}&language=de\""
   ]
  },
  {
   "cell_type": "code",
   "execution_count": 52,
   "metadata": {},
   "outputs": [],
   "source": [
    "mapbox_key = \"pk.eyJ1IjoianBrdW5rbGVyIiwiYSI6ImNqZzB0MjFjNDBiam8ycXFweGlnMThmbG8ifQ.vA1aff3tTCIX_zQsPj0cTg\""
   ]
  },
  {
   "cell_type": "code",
   "execution_count": 54,
   "metadata": {},
   "outputs": [],
   "source": [
    "test_addr = \"Bajuwarenstraße 11, 93053 Regensburg\""
   ]
  },
  {
   "cell_type": "code",
   "execution_count": 156,
   "metadata": {},
   "outputs": [],
   "source": [
    "def geocode(addr, api_key):\n",
    "    \"\"\"Use Mapbox Geocoding Service to retrieve coordinate pair for given address.\"\"\"\n",
    "    base_url = \"https://api.mapbox.com/geocoding/v5/mapbox.places/{address}.json?access_token={API_KEY}&language=de\"\n",
    "    headers = {'Content-Type': 'application/json',\n",
    "           'Authorization': 'Bearer {0}'.format(api_key)}\n",
    "    url = base_url.format(address=addr, API_KEY = api_key)\n",
    "    \n",
    "    response = requests.get(url.format(address=test_addr, API_KEY = mapbox_key), headers = headers)\n",
    "    \n",
    "    if response.status_code == 200:\n",
    "        data = json.loads(response.content.decode('utf-8'))\n",
    "        most_relevant = data[\"features\"][0]\n",
    "        if most_relevant[\"relevance\"] < 0.8:\n",
    "            return (None, None)\n",
    "        \n",
    "        lng = most_relevant[\"center\"][0]\n",
    "        lat = most_relevant[\"center\"][1]\n",
    "        rel = most_relevant[\"relevance\"]\n",
    "        return (lat, lng, rel)\n",
    "    else:\n",
    "        return (None, None)"
   ]
  },
  {
   "cell_type": "code",
   "execution_count": 157,
   "metadata": {},
   "outputs": [],
   "source": [
    "def classifyLocation(lat, lng, relevance):\n",
    "    \"\"\"Classify location specified by coordinate pair using our trained CNN model.\"\"\"\n",
    "    width, height = 300, 500\n",
    "    img_base_url = \"https://dev.virtualearth.net/REST/v1/Imagery/Map/Aerial/{lat},{lon}/17?ms={width},{height}&od=1&c=de-DE&key=AijbFhynMi9YlUoC5sbBKfrfbnkcMJ34sYBEORQwbsviodnw8nTkkgh5se5COtMs\"\n",
    "    url = img_base_url.format(lat = lat, lon = lng, width = width, height = height)\n",
    "    with urllib.request.urlopen(url) as response:\n",
    "        f = BytesIO(response.read())\n",
    "    \n",
    "    img = open_image(f)\n",
    "    prediction = learn.predict(img)\n",
    "    prob, label = topk(prediction[2],len(classes))\n",
    "    inv_map = {v: k for k, v in learn.data.c2i.items()}\n",
    "    labels = list(map(inv_map.get,label.data.tolist()))\n",
    "    prob = [round(float(x),2) for x in prob.data.tolist()]\n",
    "    pred_dict = dict(zip(labels, prob))\n",
    "    output = dict({'prediction': pred_dict})\n",
    "    output.update({'result': str(prediction[0])})\n",
    "    output.update({'addr': {'coords': [lng, lat], 'relevance': relevance}})\n",
    "    \n",
    "    return json.dumps(output)"
   ]
  },
  {
   "cell_type": "code",
   "execution_count": 158,
   "metadata": {},
   "outputs": [
    {
     "data": {
      "text/plain": [
       "'{\"prediction\": {\"Sehr_Gut\": 0.83, \"Gut\": 0.1, \"Mittel\": 0.04, \"Schlecht\": 0.02}, \"result\": \"Sehr_Gut\", \"addr\": {\"coords\": [12.118396, 48.994655], \"relevance\": 1}}'"
      ]
     },
     "execution_count": 158,
     "metadata": {},
     "output_type": "execute_result"
    }
   ],
   "source": [
    "classifyLocation(*geocode(test_addr, mapbox_key)) # use tuple unpacking using asterisk *"
   ]
  },
  {
   "cell_type": "code",
   "execution_count": null,
   "metadata": {},
   "outputs": [],
   "source": []
  }
 ],
 "metadata": {
  "kernelspec": {
   "display_name": "fastai",
   "language": "python",
   "name": "fastai"
  },
  "language_info": {
   "codemirror_mode": {
    "name": "ipython",
    "version": 3
   },
   "file_extension": ".py",
   "mimetype": "text/x-python",
   "name": "python",
   "nbconvert_exporter": "python",
   "pygments_lexer": "ipython3",
   "version": "3.7.3"
  }
 },
 "nbformat": 4,
 "nbformat_minor": 2
}

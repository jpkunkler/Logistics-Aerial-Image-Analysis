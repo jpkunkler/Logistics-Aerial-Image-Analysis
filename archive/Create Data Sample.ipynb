{
 "cells": [
  {
   "cell_type": "code",
   "execution_count": 1,
   "metadata": {},
   "outputs": [],
   "source": [
    "import pandas as pd"
   ]
  },
  {
   "cell_type": "code",
   "execution_count": 2,
   "metadata": {},
   "outputs": [],
   "source": [
    "df = pd.read_excel(\"./data/Standorte_labeled.xlsx\", index_col=0)"
   ]
  },
  {
   "cell_type": "code",
   "execution_count": 3,
   "metadata": {},
   "outputs": [
    {
     "data": {
      "text/html": [
       "<div>\n",
       "<style scoped>\n",
       "    .dataframe tbody tr th:only-of-type {\n",
       "        vertical-align: middle;\n",
       "    }\n",
       "\n",
       "    .dataframe tbody tr th {\n",
       "        vertical-align: top;\n",
       "    }\n",
       "\n",
       "    .dataframe thead th {\n",
       "        text-align: right;\n",
       "    }\n",
       "</style>\n",
       "<table border=\"1\" class=\"dataframe\">\n",
       "  <thead>\n",
       "    <tr style=\"text-align: right;\">\n",
       "      <th></th>\n",
       "      <th>Straße</th>\n",
       "      <th>PLZ</th>\n",
       "      <th>Ort</th>\n",
       "      <th>emp_land</th>\n",
       "      <th>Lat</th>\n",
       "      <th>Lon</th>\n",
       "      <th>Kategorie</th>\n",
       "      <th>Markiert</th>\n",
       "    </tr>\n",
       "  </thead>\n",
       "  <tbody>\n",
       "    <tr>\n",
       "      <th>0</th>\n",
       "      <td>REWESTR. 1</td>\n",
       "      <td>1683</td>\n",
       "      <td>STARBACH</td>\n",
       "      <td>D</td>\n",
       "      <td>51.086086</td>\n",
       "      <td>13.278351</td>\n",
       "      <td>Sehr Gut</td>\n",
       "      <td>NaN</td>\n",
       "    </tr>\n",
       "    <tr>\n",
       "      <th>1</th>\n",
       "      <td>RAIFFEISENSTR. 5-9</td>\n",
       "      <td>61191</td>\n",
       "      <td>ROSBACH</td>\n",
       "      <td>D</td>\n",
       "      <td>50.295350</td>\n",
       "      <td>8.687106</td>\n",
       "      <td>Sehr Gut</td>\n",
       "      <td>NaN</td>\n",
       "    </tr>\n",
       "    <tr>\n",
       "      <th>2</th>\n",
       "      <td>AM RÖMERFELD 6</td>\n",
       "      <td>71149</td>\n",
       "      <td>BONDORF</td>\n",
       "      <td>D</td>\n",
       "      <td>48.506751</td>\n",
       "      <td>8.836023</td>\n",
       "      <td>Sehr Gut</td>\n",
       "      <td>NaN</td>\n",
       "    </tr>\n",
       "    <tr>\n",
       "      <th>3</th>\n",
       "      <td>SEEBERGER STRASSE 10</td>\n",
       "      <td>15345</td>\n",
       "      <td>ALTLANDSBERG</td>\n",
       "      <td>D</td>\n",
       "      <td>52.548581</td>\n",
       "      <td>13.694739</td>\n",
       "      <td>Sehr Gut</td>\n",
       "      <td>NaN</td>\n",
       "    </tr>\n",
       "    <tr>\n",
       "      <th>4</th>\n",
       "      <td>IN DEN WEINÄCKERN 1</td>\n",
       "      <td>69168</td>\n",
       "      <td>WIESLOCH</td>\n",
       "      <td>D</td>\n",
       "      <td>49.296811</td>\n",
       "      <td>8.668717</td>\n",
       "      <td>Sehr Gut</td>\n",
       "      <td>NaN</td>\n",
       "    </tr>\n",
       "  </tbody>\n",
       "</table>\n",
       "</div>"
      ],
      "text/plain": [
       "                 Straße    PLZ           Ort emp_land        Lat        Lon  \\\n",
       "0            REWESTR. 1   1683      STARBACH        D  51.086086  13.278351   \n",
       "1    RAIFFEISENSTR. 5-9  61191       ROSBACH        D  50.295350   8.687106   \n",
       "2        AM RÖMERFELD 6  71149       BONDORF        D  48.506751   8.836023   \n",
       "3  SEEBERGER STRASSE 10  15345  ALTLANDSBERG        D  52.548581  13.694739   \n",
       "4   IN DEN WEINÄCKERN 1  69168      WIESLOCH        D  49.296811   8.668717   \n",
       "\n",
       "  Kategorie Markiert  \n",
       "0  Sehr Gut      NaN  \n",
       "1  Sehr Gut      NaN  \n",
       "2  Sehr Gut      NaN  \n",
       "3  Sehr Gut      NaN  \n",
       "4  Sehr Gut      NaN  "
      ]
     },
     "execution_count": 3,
     "metadata": {},
     "output_type": "execute_result"
    }
   ],
   "source": [
    "df.head()"
   ]
  },
  {
   "cell_type": "code",
   "execution_count": 4,
   "metadata": {
    "scrolled": true
   },
   "outputs": [
    {
     "data": {
      "text/plain": [
       "Sehr Gut    697\n",
       "Gut         191\n",
       "Mittel       42\n",
       "Schlecht     35\n",
       "Name: Kategorie, dtype: int64"
      ]
     },
     "execution_count": 4,
     "metadata": {},
     "output_type": "execute_result"
    }
   ],
   "source": [
    "df[\"Kategorie\"].value_counts()"
   ]
  },
  {
   "cell_type": "markdown",
   "metadata": {},
   "source": [
    "# Create equally distributed sample dataset by using the minimum category as baseline"
   ]
  },
  {
   "cell_type": "code",
   "execution_count": 5,
   "metadata": {},
   "outputs": [],
   "source": [
    "# Extract a sampled dataset which contains equal number of items for each category\n",
    "# smallest category determines sample size\n",
    "# e.g.: original dataset has 1000 \"Sehr Gut\" but only 50 \"Schlecht\" --> our sampled data will contain 50 of each category\n",
    "df_sampled = df.groupby('Kategorie').apply(lambda s: s.sample(min(df[\"Kategorie\"].value_counts()), random_state=42))"
   ]
  },
  {
   "cell_type": "code",
   "execution_count": 6,
   "metadata": {},
   "outputs": [
    {
     "data": {
      "text/plain": [
       "Gut         35\n",
       "Schlecht    35\n",
       "Mittel      35\n",
       "Sehr Gut    35\n",
       "Name: Kategorie, dtype: int64"
      ]
     },
     "execution_count": 6,
     "metadata": {},
     "output_type": "execute_result"
    }
   ],
   "source": [
    "df_sampled[\"Kategorie\"].value_counts()"
   ]
  },
  {
   "cell_type": "code",
   "execution_count": 7,
   "metadata": {},
   "outputs": [
    {
     "data": {
      "text/html": [
       "<div>\n",
       "<style scoped>\n",
       "    .dataframe tbody tr th:only-of-type {\n",
       "        vertical-align: middle;\n",
       "    }\n",
       "\n",
       "    .dataframe tbody tr th {\n",
       "        vertical-align: top;\n",
       "    }\n",
       "\n",
       "    .dataframe thead th {\n",
       "        text-align: right;\n",
       "    }\n",
       "</style>\n",
       "<table border=\"1\" class=\"dataframe\">\n",
       "  <thead>\n",
       "    <tr style=\"text-align: right;\">\n",
       "      <th></th>\n",
       "      <th></th>\n",
       "      <th>Straße</th>\n",
       "      <th>PLZ</th>\n",
       "      <th>Ort</th>\n",
       "      <th>emp_land</th>\n",
       "      <th>Lat</th>\n",
       "      <th>Lon</th>\n",
       "      <th>Kategorie</th>\n",
       "      <th>Markiert</th>\n",
       "    </tr>\n",
       "    <tr>\n",
       "      <th>Kategorie</th>\n",
       "      <th></th>\n",
       "      <th></th>\n",
       "      <th></th>\n",
       "      <th></th>\n",
       "      <th></th>\n",
       "      <th></th>\n",
       "      <th></th>\n",
       "      <th></th>\n",
       "      <th></th>\n",
       "    </tr>\n",
       "  </thead>\n",
       "  <tbody>\n",
       "    <tr>\n",
       "      <th rowspan=\"5\" valign=\"top\">Gut</th>\n",
       "      <th>883</th>\n",
       "      <td>AM WIRTHEMBOESCH</td>\n",
       "      <td>66606</td>\n",
       "      <td>ST. WENDEL</td>\n",
       "      <td>D</td>\n",
       "      <td>49.465295</td>\n",
       "      <td>7.160531</td>\n",
       "      <td>Gut</td>\n",
       "      <td>NaN</td>\n",
       "    </tr>\n",
       "    <tr>\n",
       "      <th>636</th>\n",
       "      <td>ERFURTER STR. 72</td>\n",
       "      <td>99195</td>\n",
       "      <td>MITTELHAUSEN</td>\n",
       "      <td>D</td>\n",
       "      <td>51.081965</td>\n",
       "      <td>11.091541</td>\n",
       "      <td>Gut</td>\n",
       "      <td>NaN</td>\n",
       "    </tr>\n",
       "    <tr>\n",
       "      <th>902</th>\n",
       "      <td>SCHOENEWEIBERGASSE 107-109</td>\n",
       "      <td>64347</td>\n",
       "      <td>GRIESHEIM</td>\n",
       "      <td>D</td>\n",
       "      <td>49.869247</td>\n",
       "      <td>8.555982</td>\n",
       "      <td>Gut</td>\n",
       "      <td>NaN</td>\n",
       "    </tr>\n",
       "    <tr>\n",
       "      <th>615</th>\n",
       "      <td>UNTERE AU 7</td>\n",
       "      <td>97246</td>\n",
       "      <td>EIBELSTADT</td>\n",
       "      <td>D</td>\n",
       "      <td>49.727982</td>\n",
       "      <td>9.996074</td>\n",
       "      <td>Gut</td>\n",
       "      <td>NaN</td>\n",
       "    </tr>\n",
       "    <tr>\n",
       "      <th>592</th>\n",
       "      <td>WIESBADENER STRASSE 58</td>\n",
       "      <td>65510</td>\n",
       "      <td>IDSTEIN</td>\n",
       "      <td>D</td>\n",
       "      <td>50.217182</td>\n",
       "      <td>8.262419</td>\n",
       "      <td>Gut</td>\n",
       "      <td>NaN</td>\n",
       "    </tr>\n",
       "  </tbody>\n",
       "</table>\n",
       "</div>"
      ],
      "text/plain": [
       "                                   Straße    PLZ           Ort emp_land  \\\n",
       "Kategorie                                                                 \n",
       "Gut       883            AM WIRTHEMBOESCH  66606    ST. WENDEL        D   \n",
       "          636            ERFURTER STR. 72  99195  MITTELHAUSEN        D   \n",
       "          902  SCHOENEWEIBERGASSE 107-109  64347     GRIESHEIM        D   \n",
       "          615                 UNTERE AU 7  97246    EIBELSTADT        D   \n",
       "          592      WIESBADENER STRASSE 58  65510       IDSTEIN        D   \n",
       "\n",
       "                     Lat        Lon Kategorie Markiert  \n",
       "Kategorie                                               \n",
       "Gut       883  49.465295   7.160531       Gut      NaN  \n",
       "          636  51.081965  11.091541       Gut      NaN  \n",
       "          902  49.869247   8.555982       Gut      NaN  \n",
       "          615  49.727982   9.996074       Gut      NaN  \n",
       "          592  50.217182   8.262419       Gut      NaN  "
      ]
     },
     "execution_count": 7,
     "metadata": {},
     "output_type": "execute_result"
    }
   ],
   "source": [
    "df_sampled.head()"
   ]
  },
  {
   "cell_type": "code",
   "execution_count": 12,
   "metadata": {},
   "outputs": [],
   "source": [
    "# rename actual column \"Kategorie\" to \"class\" to avoid naming problems when saving to excel\n",
    "# because grouped_by column is also called Kategorie\n",
    "df_sampled = df_sampled.rename(index=str, columns={\"Kategorie\":\"class\"})"
   ]
  },
  {
   "cell_type": "code",
   "execution_count": 13,
   "metadata": {},
   "outputs": [],
   "source": [
    "df_sampled.to_excel(\"./data/data_sample.xlsx\")"
   ]
  }
 ],
 "metadata": {
  "kernelspec": {
   "display_name": "fastai",
   "language": "python",
   "name": "fastai"
  },
  "language_info": {
   "codemirror_mode": {
    "name": "ipython",
    "version": 3
   },
   "file_extension": ".py",
   "mimetype": "text/x-python",
   "name": "python",
   "nbconvert_exporter": "python",
   "pygments_lexer": "ipython3",
   "version": "3.7.3"
  }
 },
 "nbformat": 4,
 "nbformat_minor": 2
}

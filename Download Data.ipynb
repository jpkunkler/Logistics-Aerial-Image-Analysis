{
 "cells": [
  {
   "cell_type": "code",
   "execution_count": 73,
   "metadata": {},
   "outputs": [],
   "source": [
    "import urllib.request\n",
    "from fastai.vision import Path\n",
    "import pandas as pd\n",
    "import os\n",
    "import shutil\n",
    "import time\n",
    "path = Path(\"data\")\n",
    "output_dir = Path(\"./output_full\")\n",
    "if not os.path.exists(output_dir):\n",
    "    os.makedirs(output_dir)\n",
    "else:\n",
    "    shutil.rmtree(output_dir)\n",
    "    os.makedirs(output_dir)"
   ]
  },
  {
   "cell_type": "code",
   "execution_count": 74,
   "metadata": {},
   "outputs": [],
   "source": [
    "bing_url = \"https://dev.virtualearth.net/REST/v1/Imagery/Map/Aerial/{lat},{lon}/17?ms={width},{height}&od=1&c=de-DE&key={api_key}\"\n",
    "KEY = \"AijbFhynMi9YlUoC5sbBKfrfbnkcMJ34sYBEORQwbsviodnw8nTkkgh5se5COtMs\"\n",
    "WIDTH = 600\n",
    "HEIGHT = 900"
   ]
  },
  {
   "cell_type": "code",
   "execution_count": 75,
   "metadata": {},
   "outputs": [],
   "source": [
    "data = pd.read_excel(path/\"Standorte_labeled.xlsx\")"
   ]
  },
  {
   "cell_type": "code",
   "execution_count": 76,
   "metadata": {},
   "outputs": [
    {
     "data": {
      "text/html": [
       "<div>\n",
       "<style scoped>\n",
       "    .dataframe tbody tr th:only-of-type {\n",
       "        vertical-align: middle;\n",
       "    }\n",
       "\n",
       "    .dataframe tbody tr th {\n",
       "        vertical-align: top;\n",
       "    }\n",
       "\n",
       "    .dataframe thead th {\n",
       "        text-align: right;\n",
       "    }\n",
       "</style>\n",
       "<table border=\"1\" class=\"dataframe\">\n",
       "  <thead>\n",
       "    <tr style=\"text-align: right;\">\n",
       "      <th></th>\n",
       "      <th>Unnamed: 0</th>\n",
       "      <th>Straße</th>\n",
       "      <th>PLZ</th>\n",
       "      <th>Ort</th>\n",
       "      <th>emp_land</th>\n",
       "      <th>Lat</th>\n",
       "      <th>Lon</th>\n",
       "      <th>Kategorie</th>\n",
       "      <th>Markiert</th>\n",
       "    </tr>\n",
       "  </thead>\n",
       "  <tbody>\n",
       "    <tr>\n",
       "      <th>0</th>\n",
       "      <td>0</td>\n",
       "      <td>REWESTR. 1</td>\n",
       "      <td>1683</td>\n",
       "      <td>STARBACH</td>\n",
       "      <td>D</td>\n",
       "      <td>51.086086</td>\n",
       "      <td>13.278351</td>\n",
       "      <td>Sehr Gut</td>\n",
       "      <td>NaN</td>\n",
       "    </tr>\n",
       "    <tr>\n",
       "      <th>1</th>\n",
       "      <td>1</td>\n",
       "      <td>RAIFFEISENSTR. 5-9</td>\n",
       "      <td>61191</td>\n",
       "      <td>ROSBACH</td>\n",
       "      <td>D</td>\n",
       "      <td>50.295350</td>\n",
       "      <td>8.687106</td>\n",
       "      <td>Sehr Gut</td>\n",
       "      <td>NaN</td>\n",
       "    </tr>\n",
       "    <tr>\n",
       "      <th>2</th>\n",
       "      <td>2</td>\n",
       "      <td>AM RÖMERFELD 6</td>\n",
       "      <td>71149</td>\n",
       "      <td>BONDORF</td>\n",
       "      <td>D</td>\n",
       "      <td>48.506751</td>\n",
       "      <td>8.836023</td>\n",
       "      <td>Sehr Gut</td>\n",
       "      <td>NaN</td>\n",
       "    </tr>\n",
       "    <tr>\n",
       "      <th>3</th>\n",
       "      <td>3</td>\n",
       "      <td>SEEBERGER STRASSE 10</td>\n",
       "      <td>15345</td>\n",
       "      <td>ALTLANDSBERG</td>\n",
       "      <td>D</td>\n",
       "      <td>52.548581</td>\n",
       "      <td>13.694739</td>\n",
       "      <td>Sehr Gut</td>\n",
       "      <td>NaN</td>\n",
       "    </tr>\n",
       "    <tr>\n",
       "      <th>4</th>\n",
       "      <td>4</td>\n",
       "      <td>IN DEN WEINÄCKERN 1</td>\n",
       "      <td>69168</td>\n",
       "      <td>WIESLOCH</td>\n",
       "      <td>D</td>\n",
       "      <td>49.296811</td>\n",
       "      <td>8.668717</td>\n",
       "      <td>Sehr Gut</td>\n",
       "      <td>NaN</td>\n",
       "    </tr>\n",
       "  </tbody>\n",
       "</table>\n",
       "</div>"
      ],
      "text/plain": [
       "   Unnamed: 0                Straße    PLZ  ...        Lon Kategorie  Markiert\n",
       "0           0            REWESTR. 1   1683  ...  13.278351  Sehr Gut       NaN\n",
       "1           1    RAIFFEISENSTR. 5-9  61191  ...   8.687106  Sehr Gut       NaN\n",
       "2           2        AM RÖMERFELD 6  71149  ...   8.836023  Sehr Gut       NaN\n",
       "3           3  SEEBERGER STRASSE 10  15345  ...  13.694739  Sehr Gut       NaN\n",
       "4           4   IN DEN WEINÄCKERN 1  69168  ...   8.668717  Sehr Gut       NaN\n",
       "\n",
       "[5 rows x 9 columns]"
      ]
     },
     "execution_count": 76,
     "metadata": {},
     "output_type": "execute_result"
    }
   ],
   "source": [
    "data.head()"
   ]
  },
  {
   "cell_type": "code",
   "execution_count": 77,
   "metadata": {},
   "outputs": [
    {
     "name": "stdout",
     "output_type": "stream",
     "text": [
      "<class 'pandas.core.frame.DataFrame'>\n",
      "RangeIndex: 21433 entries, 0 to 21432\n",
      "Data columns (total 9 columns):\n",
      "Unnamed: 0    21433 non-null int64\n",
      "Straße        21433 non-null object\n",
      "PLZ           21433 non-null int64\n",
      "Ort           21433 non-null object\n",
      "emp_land      21433 non-null object\n",
      "Lat           21433 non-null float64\n",
      "Lon           21433 non-null float64\n",
      "Kategorie     965 non-null object\n",
      "Markiert      19 non-null object\n",
      "dtypes: float64(2), int64(2), object(5)\n",
      "memory usage: 1.5+ MB\n"
     ]
    }
   ],
   "source": [
    "data.info()"
   ]
  },
  {
   "cell_type": "code",
   "execution_count": 78,
   "metadata": {},
   "outputs": [],
   "source": [
    "data = data[data.Kategorie.notnull()]"
   ]
  },
  {
   "cell_type": "code",
   "execution_count": 79,
   "metadata": {},
   "outputs": [
    {
     "name": "stdout",
     "output_type": "stream",
     "text": [
      "<class 'pandas.core.frame.DataFrame'>\n",
      "Int64Index: 965 entries, 0 to 964\n",
      "Data columns (total 9 columns):\n",
      "Unnamed: 0    965 non-null int64\n",
      "Straße        965 non-null object\n",
      "PLZ           965 non-null int64\n",
      "Ort           965 non-null object\n",
      "emp_land      965 non-null object\n",
      "Lat           965 non-null float64\n",
      "Lon           965 non-null float64\n",
      "Kategorie     965 non-null object\n",
      "Markiert      19 non-null object\n",
      "dtypes: float64(2), int64(2), object(5)\n",
      "memory usage: 75.4+ KB\n"
     ]
    }
   ],
   "source": [
    "data.info()"
   ]
  },
  {
   "cell_type": "code",
   "execution_count": 80,
   "metadata": {},
   "outputs": [],
   "source": [
    "classes = data.Kategorie.unique()"
   ]
  },
  {
   "cell_type": "code",
   "execution_count": 81,
   "metadata": {},
   "outputs": [
    {
     "data": {
      "text/plain": [
       "array(['Sehr Gut', 'Mittel', 'Gut', 'Schlecht'], dtype=object)"
      ]
     },
     "execution_count": 81,
     "metadata": {},
     "output_type": "execute_result"
    }
   ],
   "source": [
    "classes"
   ]
  },
  {
   "cell_type": "code",
   "execution_count": 82,
   "metadata": {},
   "outputs": [],
   "source": [
    "for c in classes:\n",
    "    if not os.path.exists(output_dir/c):\n",
    "        os.makedirs(output_dir/c)\n",
    "    else:\n",
    "        shutil.rmtree(output_dir/c)\n",
    "        os.makedirs(output_dir/c)"
   ]
  },
  {
   "cell_type": "code",
   "execution_count": 84,
   "metadata": {},
   "outputs": [],
   "source": [
    "counter = 0\n",
    "for idx, row in data.iterrows():\n",
    "    url = bing_url.format(lat=row[\"Lat\"], lon=row[\"Lon\"], width=WIDTH, height=HEIGHT, api_key=KEY)\n",
    "    fname = \"image{num}.jpeg\".format(num=counter)\n",
    "    urllib.request.urlretrieve(url, output_dir/row[\"Kategorie\"]/fname)\n",
    "    if counter % 10 == 0:\n",
    "        time.sleep(5)\n",
    "    counter += 1"
   ]
  },
  {
   "cell_type": "code",
   "execution_count": null,
   "metadata": {},
   "outputs": [],
   "source": []
  }
 ],
 "metadata": {
  "kernelspec": {
   "display_name": "fastai",
   "language": "python",
   "name": "fastai"
  },
  "language_info": {
   "codemirror_mode": {
    "name": "ipython",
    "version": 3
   },
   "file_extension": ".py",
   "mimetype": "text/x-python",
   "name": "python",
   "nbconvert_exporter": "python",
   "pygments_lexer": "ipython3",
   "version": "3.7.3"
  }
 },
 "nbformat": 4,
 "nbformat_minor": 2
}

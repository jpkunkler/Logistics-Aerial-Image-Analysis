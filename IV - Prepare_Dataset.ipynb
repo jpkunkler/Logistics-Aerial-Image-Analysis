{
 "cells": [
  {
   "cell_type": "code",
   "execution_count": 4,
   "metadata": {},
   "outputs": [],
   "source": [
    "from fastai.vision import *\n",
    "import os\n",
    "import shutil\n",
    "import random\n",
    "from sklearn.model_selection import train_test_split\n",
    "import numpy\n",
    "import pandas as pd"
   ]
  },
  {
   "cell_type": "code",
   "execution_count": 5,
   "metadata": {},
   "outputs": [],
   "source": [
    "path = Path(\"./output_full\")"
   ]
  },
  {
   "cell_type": "code",
   "execution_count": 6,
   "metadata": {},
   "outputs": [
    {
     "name": "stdout",
     "output_type": "stream",
     "text": [
      "Gut\n"
     ]
    },
    {
     "data": {
      "text/html": [
       "\n",
       "    <div>\n",
       "        <style>\n",
       "            /* Turns off some styling */\n",
       "            progress {\n",
       "                /* gets rid of default border in Firefox and Opera. */\n",
       "                border: none;\n",
       "                /* Needs to be in here for Safari polyfill so background images work as expected. */\n",
       "                background-size: auto;\n",
       "            }\n",
       "            .progress-bar-interrupted, .progress-bar-interrupted::-webkit-progress-bar {\n",
       "                background: #F44336;\n",
       "            }\n",
       "        </style>\n",
       "      <progress value='191' class='' max='191', style='width:300px; height:20px; vertical-align: middle;'></progress>\n",
       "      100.00% [191/191 00:00<00:00]\n",
       "    </div>\n",
       "    "
      ],
      "text/plain": [
       "<IPython.core.display.HTML object>"
      ]
     },
     "metadata": {},
     "output_type": "display_data"
    },
    {
     "name": "stdout",
     "output_type": "stream",
     "text": [
      "Mittel\n"
     ]
    },
    {
     "data": {
      "text/html": [
       "\n",
       "    <div>\n",
       "        <style>\n",
       "            /* Turns off some styling */\n",
       "            progress {\n",
       "                /* gets rid of default border in Firefox and Opera. */\n",
       "                border: none;\n",
       "                /* Needs to be in here for Safari polyfill so background images work as expected. */\n",
       "                background-size: auto;\n",
       "            }\n",
       "            .progress-bar-interrupted, .progress-bar-interrupted::-webkit-progress-bar {\n",
       "                background: #F44336;\n",
       "            }\n",
       "        </style>\n",
       "      <progress value='42' class='' max='42', style='width:300px; height:20px; vertical-align: middle;'></progress>\n",
       "      100.00% [42/42 00:00<00:00]\n",
       "    </div>\n",
       "    "
      ],
      "text/plain": [
       "<IPython.core.display.HTML object>"
      ]
     },
     "metadata": {},
     "output_type": "display_data"
    },
    {
     "name": "stdout",
     "output_type": "stream",
     "text": [
      "Schlecht\n"
     ]
    },
    {
     "data": {
      "text/html": [
       "\n",
       "    <div>\n",
       "        <style>\n",
       "            /* Turns off some styling */\n",
       "            progress {\n",
       "                /* gets rid of default border in Firefox and Opera. */\n",
       "                border: none;\n",
       "                /* Needs to be in here for Safari polyfill so background images work as expected. */\n",
       "                background-size: auto;\n",
       "            }\n",
       "            .progress-bar-interrupted, .progress-bar-interrupted::-webkit-progress-bar {\n",
       "                background: #F44336;\n",
       "            }\n",
       "        </style>\n",
       "      <progress value='35' class='' max='35', style='width:300px; height:20px; vertical-align: middle;'></progress>\n",
       "      100.00% [35/35 00:00<00:00]\n",
       "    </div>\n",
       "    "
      ],
      "text/plain": [
       "<IPython.core.display.HTML object>"
      ]
     },
     "metadata": {},
     "output_type": "display_data"
    },
    {
     "name": "stdout",
     "output_type": "stream",
     "text": [
      "Sehr Gut\n"
     ]
    },
    {
     "data": {
      "text/html": [
       "\n",
       "    <div>\n",
       "        <style>\n",
       "            /* Turns off some styling */\n",
       "            progress {\n",
       "                /* gets rid of default border in Firefox and Opera. */\n",
       "                border: none;\n",
       "                /* Needs to be in here for Safari polyfill so background images work as expected. */\n",
       "                background-size: auto;\n",
       "            }\n",
       "            .progress-bar-interrupted, .progress-bar-interrupted::-webkit-progress-bar {\n",
       "                background: #F44336;\n",
       "            }\n",
       "        </style>\n",
       "      <progress value='697' class='' max='697', style='width:300px; height:20px; vertical-align: middle;'></progress>\n",
       "      100.00% [697/697 00:01<00:00]\n",
       "    </div>\n",
       "    "
      ],
      "text/plain": [
       "<IPython.core.display.HTML object>"
      ]
     },
     "metadata": {},
     "output_type": "display_data"
    }
   ],
   "source": [
    "# Check original images for errors and rescale each image to max size of 500\n",
    "# save scaled images to \"/output/scaled/{folder}\"\n",
    "for folder in (\"Gut\", \"Mittel\", \"Schlecht\", \"Sehr Gut\"):\n",
    "    print(folder)\n",
    "    verify_images(path/folder, delete=False, max_size=500, dest=\"../scaled/\"+folder)"
   ]
  },
  {
   "cell_type": "code",
   "execution_count": 7,
   "metadata": {},
   "outputs": [],
   "source": [
    "# Set up correct folder structure\n",
    "scaled_path = path/\"scaled\"\n",
    "data_dir = Path(\"./data_dir_full\")\n",
    "\n",
    "# create folder if it does not exist, else clear all files in it\n",
    "if not os.path.exists(data_dir):\n",
    "    os.makedirs(data_dir)\n",
    "else:\n",
    "    shutil.rmtree(data_dir)\n",
    "    os.makedirs(data_dir)"
   ]
  },
  {
   "cell_type": "code",
   "execution_count": 8,
   "metadata": {},
   "outputs": [],
   "source": [
    "# utility function to make copying of files \n",
    "# from one folder to another while renaming them easier\n",
    "def copy_rename(old_file_name, new_file_name, src_dir, dst_dir):\n",
    "        src_file = os.path.join(src_dir, old_file_name)\n",
    "        shutil.copy(src_file,dst_dir)\n",
    "        \n",
    "        dst_file = os.path.join(dst_dir, old_file_name)\n",
    "        new_dst_file_name = os.path.join(dst_dir, new_file_name)\n",
    "        os.rename(dst_file, new_dst_file_name)"
   ]
  },
  {
   "cell_type": "code",
   "execution_count": 9,
   "metadata": {},
   "outputs": [],
   "source": [
    "# combine all images in one folder \"data-dir\" \n",
    "# and rename them to continuous index train_00_label ...\n",
    "lbl_index = 1\n",
    "for folder in (\"Gut\", \"Mittel\", \"Schlecht\", \"Sehr Gut\"):\n",
    "    for file in os.listdir(scaled_path/folder):\n",
    "        if not os.path.isdir(file): # skip directories created by ipython\n",
    "            _, extension = os.path.splitext(file) # grab file extension\n",
    "            new_file = \"Image_{:02d}-{}{}\".format(lbl_index, folder, extension)\n",
    "                                            .replace(\" \", \"_\")\n",
    "            copy_rename(file, new_file, scaled_path/folder, data_dir)\n",
    "            lbl_index += 1"
   ]
  },
  {
   "cell_type": "code",
   "execution_count": 10,
   "metadata": {},
   "outputs": [],
   "source": [
    "all_files = os.listdir(data_dir) # grab all files currently in data_dir"
   ]
  },
  {
   "cell_type": "code",
   "execution_count": 11,
   "metadata": {},
   "outputs": [],
   "source": [
    "# sort file names by numerical digit in ascending order\n",
    "# to do this, extract numerical digits from string, \n",
    "# convert to integer and use as sort key\n",
    "sorted_files = sorted(all_files, key=lambda x: int(x.split(\"_\")[1]\n",
    "                                                   .split(\"-\")[0]))"
   ]
  },
  {
   "cell_type": "code",
   "execution_count": 12,
   "metadata": {},
   "outputs": [],
   "source": [
    "#shuffle_data\n",
    "random.shuffle(all_files)\n",
    "\n",
    "# extract file names and corresponding labels from files\n",
    "fnames = [x.split(\"-\")[0] for x in sorted_files]\n",
    "flabels = [os.path.splitext(x.split(\"-\")[1])[0] for x in sorted_files]"
   ]
  },
  {
   "cell_type": "code",
   "execution_count": 13,
   "metadata": {},
   "outputs": [],
   "source": [
    "# create dataframe in format [file_name, corresponding_label]\n",
    "df = pd.DataFrame(list(zip(fnames, flabels)), \n",
    "               columns =['image_name', 'label'])"
   ]
  },
  {
   "cell_type": "code",
   "execution_count": 14,
   "metadata": {},
   "outputs": [],
   "source": [
    "numpy.random.RandomState(42)\n",
    "\n",
    "# create train set from total data set\n",
    "X_train ,X_test = train_test_split(df,test_size=0.2, random_state=42)\n",
    "\n",
    "# create valid set from train set\n",
    "X_train, X_val = train_test_split(X_train, test_size=0.2, random_state=42)"
   ]
  },
  {
   "cell_type": "code",
   "execution_count": 15,
   "metadata": {},
   "outputs": [
    {
     "data": {
      "text/html": [
       "<div>\n",
       "<style scoped>\n",
       "    .dataframe tbody tr th:only-of-type {\n",
       "        vertical-align: middle;\n",
       "    }\n",
       "\n",
       "    .dataframe tbody tr th {\n",
       "        vertical-align: top;\n",
       "    }\n",
       "\n",
       "    .dataframe thead th {\n",
       "        text-align: right;\n",
       "    }\n",
       "</style>\n",
       "<table border=\"1\" class=\"dataframe\">\n",
       "  <thead>\n",
       "    <tr style=\"text-align: right;\">\n",
       "      <th></th>\n",
       "      <th>image_name</th>\n",
       "      <th>label</th>\n",
       "    </tr>\n",
       "  </thead>\n",
       "  <tbody>\n",
       "    <tr>\n",
       "      <th>889</th>\n",
       "      <td>Image_890</td>\n",
       "      <td>Sehr_Gut</td>\n",
       "    </tr>\n",
       "    <tr>\n",
       "      <th>468</th>\n",
       "      <td>Image_469</td>\n",
       "      <td>Sehr_Gut</td>\n",
       "    </tr>\n",
       "    <tr>\n",
       "      <th>168</th>\n",
       "      <td>Image_169</td>\n",
       "      <td>Gut</td>\n",
       "    </tr>\n",
       "    <tr>\n",
       "      <th>405</th>\n",
       "      <td>Image_406</td>\n",
       "      <td>Sehr_Gut</td>\n",
       "    </tr>\n",
       "    <tr>\n",
       "      <th>70</th>\n",
       "      <td>Image_71</td>\n",
       "      <td>Gut</td>\n",
       "    </tr>\n",
       "  </tbody>\n",
       "</table>\n",
       "</div>"
      ],
      "text/plain": [
       "    image_name     label\n",
       "889  Image_890  Sehr_Gut\n",
       "468  Image_469  Sehr_Gut\n",
       "168  Image_169       Gut\n",
       "405  Image_406  Sehr_Gut\n",
       "70    Image_71       Gut"
      ]
     },
     "execution_count": 15,
     "metadata": {},
     "output_type": "execute_result"
    }
   ],
   "source": [
    "X_test.head()"
   ]
  },
  {
   "cell_type": "code",
   "execution_count": 16,
   "metadata": {},
   "outputs": [],
   "source": [
    "# grab all file labels to create required folders\n",
    "labels = X_test[\"label\"].unique()"
   ]
  },
  {
   "cell_type": "code",
   "execution_count": 17,
   "metadata": {},
   "outputs": [],
   "source": [
    "# set up directory names\n",
    "train_dir = data_dir/\"train\"\n",
    "test_dir = data_dir/\"test\"\n",
    "valid_dir = data_dir/\"valid\"\n",
    "\n",
    "# set up folder structure\n",
    "for label in labels:\n",
    "    if not os.path.exists(train_dir/label):\n",
    "        os.makedirs(train_dir/label)\n",
    "    \n",
    "    if not os.path.exists(valid_dir/label):\n",
    "        os.makedirs(valid_dir/label)\n",
    "    \n",
    "    if not os.path.exists(test_dir/label):\n",
    "        os.makedirs(test_dir/label)"
   ]
  },
  {
   "cell_type": "code",
   "execution_count": 20,
   "metadata": {},
   "outputs": [],
   "source": [
    "# copy files from train set to correct subfolder in data directory\n",
    "for idx, file in X_train.iterrows():\n",
    "    full_filename = file[0] + \"-\" + file[1] + \".jpeg\"\n",
    "    copy_rename(full_filename, file[0]+\".jpeg\", data_dir, train_dir/file[1])\n",
    "\n",
    "#copy files from validation set to correct subfolder in data directory\n",
    "for idx, file in X_val.iterrows():\n",
    "    full_filename = file[0] + \"-\" + file[1] + \".jpeg\"\n",
    "    copy_rename(full_filename, file[0]+\".jpeg\", data_dir, valid_dir/file[1])\n",
    "    \n",
    "# copy files from test set to correct subfolder in data directory\n",
    "for idx, file in X_test.iterrows():\n",
    "    full_filename = file[0] + \"-\" + file[1] + \".jpeg\"\n",
    "    copy_rename(full_filename, file[0]+\".jpeg\", data_dir, test_dir/file[1])"
   ]
  },
  {
   "cell_type": "code",
   "execution_count": 21,
   "metadata": {},
   "outputs": [],
   "source": [
    "# clean up data_dir by removing duplicates/originals\n",
    "for file in os.listdir(data_dir):\n",
    "    os.path.isfile(data_dir/file) and os.remove(data_dir/file) # only delete files and skip folders"
   ]
  },
  {
   "cell_type": "code",
   "execution_count": 22,
   "metadata": {},
   "outputs": [],
   "source": [
    "df.to_csv(data_dir/\"labels.csv\", index=False)"
   ]
  }
 ],
 "metadata": {
  "kernelspec": {
   "display_name": "fastai",
   "language": "python",
   "name": "fastai"
  },
  "language_info": {
   "codemirror_mode": {
    "name": "ipython",
    "version": 3
   },
   "file_extension": ".py",
   "mimetype": "text/x-python",
   "name": "python",
   "nbconvert_exporter": "python",
   "pygments_lexer": "ipython3",
   "version": "3.7.3"
  }
 },
 "nbformat": 4,
 "nbformat_minor": 2
}

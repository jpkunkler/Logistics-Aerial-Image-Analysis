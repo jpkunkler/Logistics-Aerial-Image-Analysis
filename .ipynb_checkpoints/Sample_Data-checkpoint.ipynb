{
 "cells": [
  {
   "cell_type": "code",
   "execution_count": 1,
   "metadata": {},
   "outputs": [],
   "source": [
    "import pandas as pd"
   ]
  },
  {
   "cell_type": "code",
   "execution_count": 2,
   "metadata": {},
   "outputs": [],
   "source": [
    "df = pd.read_excel(\"./data/Standorte_labeled.xlsx\", index_col=0)"
   ]
  },
  {
   "cell_type": "code",
   "execution_count": 3,
   "metadata": {},
   "outputs": [
    {
     "data": {
      "text/html": [
       "<div>\n",
       "<style scoped>\n",
       "    .dataframe tbody tr th:only-of-type {\n",
       "        vertical-align: middle;\n",
       "    }\n",
       "\n",
       "    .dataframe tbody tr th {\n",
       "        vertical-align: top;\n",
       "    }\n",
       "\n",
       "    .dataframe thead th {\n",
       "        text-align: right;\n",
       "    }\n",
       "</style>\n",
       "<table border=\"1\" class=\"dataframe\">\n",
       "  <thead>\n",
       "    <tr style=\"text-align: right;\">\n",
       "      <th></th>\n",
       "      <th>Straße</th>\n",
       "      <th>PLZ</th>\n",
       "      <th>Ort</th>\n",
       "      <th>emp_land</th>\n",
       "      <th>Lat</th>\n",
       "      <th>Lon</th>\n",
       "      <th>Kategorie</th>\n",
       "      <th>Markiert</th>\n",
       "    </tr>\n",
       "  </thead>\n",
       "  <tbody>\n",
       "    <tr>\n",
       "      <th>0</th>\n",
       "      <td>REWESTR. 1</td>\n",
       "      <td>1683</td>\n",
       "      <td>STARBACH</td>\n",
       "      <td>D</td>\n",
       "      <td>51.086086</td>\n",
       "      <td>13.278351</td>\n",
       "      <td>Sehr Gut</td>\n",
       "      <td>NaN</td>\n",
       "    </tr>\n",
       "    <tr>\n",
       "      <th>1</th>\n",
       "      <td>RAIFFEISENSTR. 5-9</td>\n",
       "      <td>61191</td>\n",
       "      <td>ROSBACH</td>\n",
       "      <td>D</td>\n",
       "      <td>50.295350</td>\n",
       "      <td>8.687106</td>\n",
       "      <td>Sehr Gut</td>\n",
       "      <td>NaN</td>\n",
       "    </tr>\n",
       "    <tr>\n",
       "      <th>2</th>\n",
       "      <td>AM RÖMERFELD 6</td>\n",
       "      <td>71149</td>\n",
       "      <td>BONDORF</td>\n",
       "      <td>D</td>\n",
       "      <td>48.506751</td>\n",
       "      <td>8.836023</td>\n",
       "      <td>Sehr Gut</td>\n",
       "      <td>NaN</td>\n",
       "    </tr>\n",
       "    <tr>\n",
       "      <th>3</th>\n",
       "      <td>SEEBERGER STRASSE 10</td>\n",
       "      <td>15345</td>\n",
       "      <td>ALTLANDSBERG</td>\n",
       "      <td>D</td>\n",
       "      <td>52.548581</td>\n",
       "      <td>13.694739</td>\n",
       "      <td>Sehr Gut</td>\n",
       "      <td>NaN</td>\n",
       "    </tr>\n",
       "    <tr>\n",
       "      <th>4</th>\n",
       "      <td>IN DEN WEINÄCKERN 1</td>\n",
       "      <td>69168</td>\n",
       "      <td>WIESLOCH</td>\n",
       "      <td>D</td>\n",
       "      <td>49.296811</td>\n",
       "      <td>8.668717</td>\n",
       "      <td>Sehr Gut</td>\n",
       "      <td>NaN</td>\n",
       "    </tr>\n",
       "  </tbody>\n",
       "</table>\n",
       "</div>"
      ],
      "text/plain": [
       "                 Straße    PLZ           Ort emp_land        Lat        Lon  \\\n",
       "0            REWESTR. 1   1683      STARBACH        D  51.086086  13.278351   \n",
       "1    RAIFFEISENSTR. 5-9  61191       ROSBACH        D  50.295350   8.687106   \n",
       "2        AM RÖMERFELD 6  71149       BONDORF        D  48.506751   8.836023   \n",
       "3  SEEBERGER STRASSE 10  15345  ALTLANDSBERG        D  52.548581  13.694739   \n",
       "4   IN DEN WEINÄCKERN 1  69168      WIESLOCH        D  49.296811   8.668717   \n",
       "\n",
       "  Kategorie Markiert  \n",
       "0  Sehr Gut      NaN  \n",
       "1  Sehr Gut      NaN  \n",
       "2  Sehr Gut      NaN  \n",
       "3  Sehr Gut      NaN  \n",
       "4  Sehr Gut      NaN  "
      ]
     },
     "execution_count": 3,
     "metadata": {},
     "output_type": "execute_result"
    }
   ],
   "source": [
    "df.head()"
   ]
  },
  {
   "cell_type": "code",
   "execution_count": 4,
   "metadata": {
    "scrolled": true
   },
   "outputs": [
    {
     "data": {
      "text/plain": [
       "Sehr Gut    697\n",
       "Gut         191\n",
       "Mittel       42\n",
       "Schlecht     35\n",
       "Name: Kategorie, dtype: int64"
      ]
     },
     "execution_count": 4,
     "metadata": {},
     "output_type": "execute_result"
    }
   ],
   "source": [
    "df[\"Kategorie\"].value_counts()"
   ]
  },
  {
   "cell_type": "code",
   "execution_count": 5,
   "metadata": {},
   "outputs": [],
   "source": [
    "# Extract a sampled dataset which contains equal number of items for each category\n",
    "# smallest category determines sample size\n",
    "# e.g.: original dataset has 1000 \"Sehr Gut\" but only 50 \"Schlecht\" --> our sampled data will contain 50 of each category\n",
    "df_sampled = df.groupby('Kategorie').apply(lambda s: s.sample(min(df[\"Kategorie\"].value_counts()), random_state=42))"
   ]
  },
  {
   "cell_type": "code",
   "execution_count": 6,
   "metadata": {},
   "outputs": [
    {
     "data": {
      "text/plain": [
       "Schlecht    35\n",
       "Gut         35\n",
       "Sehr Gut    35\n",
       "Mittel      35\n",
       "Name: Kategorie, dtype: int64"
      ]
     },
     "execution_count": 6,
     "metadata": {},
     "output_type": "execute_result"
    }
   ],
   "source": [
    "df_sampled[\"Kategorie\"].value_counts()"
   ]
  },
  {
   "cell_type": "code",
   "execution_count": 7,
   "metadata": {},
   "outputs": [],
   "source": [
    "df_sampled.to_excel(\"./data/data_sample.xlsx\")"
   ]
  },
  {
   "cell_type": "code",
   "execution_count": null,
   "metadata": {},
   "outputs": [],
   "source": []
  }
 ],
 "metadata": {
  "kernelspec": {
   "display_name": "fastai",
   "language": "python",
   "name": "fastai"
  },
  "language_info": {
   "codemirror_mode": {
    "name": "ipython",
    "version": 3
   },
   "file_extension": ".py",
   "mimetype": "text/x-python",
   "name": "python",
   "nbconvert_exporter": "python",
   "pygments_lexer": "ipython3",
   "version": "3.7.3"
  }
 },
 "nbformat": 4,
 "nbformat_minor": 2
}

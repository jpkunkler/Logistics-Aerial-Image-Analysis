{
 "cells": [
  {
   "cell_type": "markdown",
   "metadata": {},
   "source": [
    "# Download Aerial Images using Bing Maps"
   ]
  },
  {
   "cell_type": "markdown",
   "metadata": {},
   "source": [
    "## Method 1 (fast): Using the Bing Aerial API to retrieve Medium Resolution Images"
   ]
  },
  {
   "cell_type": "markdown",
   "metadata": {},
   "source": [
    "This method is really fast in retrieving ready-to-download images which are provided as a cutout from predefined Bing Maps. It returns lower resolution images which do not always have the coordinate's location at their center point.\n",
    "\n",
    "Since these images will also be used during production for substantial speed increase, they can also be used to train the model.\n",
    "During training, each image will be downscaled to a resolution of 224x224 pixels and transformed in multiple ways. Because of that, original image size does not have to be upwards of 1080p."
   ]
  },
  {
   "cell_type": "code",
   "execution_count": 73,
   "metadata": {},
   "outputs": [],
   "source": [
    "import urllib.request\n",
    "from fastai.vision import Path\n",
    "import pandas as pd\n",
    "import os\n",
    "import shutil\n",
    "import time"
   ]
  },
  {
   "cell_type": "code",
   "execution_count": null,
   "metadata": {},
   "outputs": [],
   "source": [
    "# set up paths for data input and downloaded output\n",
    "path = Path(\"./data\")\n",
    "output_dir = Path(\"./output_full\")\n",
    "\n",
    "# if the output directory does not exist, create it.\n",
    "# Otherwise clear all files in directory to start anew\n",
    "if not os.path.exists(output_dir):\n",
    "    os.makedirs(output_dir)\n",
    "else:\n",
    "    shutil.rmtree(output_dir)\n",
    "    os.makedirs(output_dir)"
   ]
  },
  {
   "cell_type": "code",
   "execution_count": 74,
   "metadata": {},
   "outputs": [],
   "source": [
    "# Bing Map Aerial API to retrieve aerial images for given coordinates\n",
    "bing_url = \"https://dev.virtualearth.net/REST/v1/Imagery/Map/Aerial/\" \\\n",
    "            \"{lat},{lon}/17?ms={width},{height}&od=1&c=de-DE&key={api_key}\"\n",
    "KEY = \"AijbFhynMi9YlUoC5sbBKfrfbnkcMJ34sYBEORQwbsviodnw8nTkkgh5se5COtMs\" # API Key\n",
    "# Images should all be the same size (600x900 Pixel)\n",
    "WIDTH = 600\n",
    "HEIGHT = 900"
   ]
  },
  {
   "cell_type": "code",
   "execution_count": 75,
   "metadata": {},
   "outputs": [],
   "source": [
    "# Read labeled dataset\n",
    "data = pd.read_excel(path/\"Standorte_labeled.xlsx\")"
   ]
  },
  {
   "cell_type": "code",
   "execution_count": 76,
   "metadata": {},
   "outputs": [
    {
     "data": {
      "text/html": [
       "<div>\n",
       "<style scoped>\n",
       "    .dataframe tbody tr th:only-of-type {\n",
       "        vertical-align: middle;\n",
       "    }\n",
       "\n",
       "    .dataframe tbody tr th {\n",
       "        vertical-align: top;\n",
       "    }\n",
       "\n",
       "    .dataframe thead th {\n",
       "        text-align: right;\n",
       "    }\n",
       "</style>\n",
       "<table border=\"1\" class=\"dataframe\">\n",
       "  <thead>\n",
       "    <tr style=\"text-align: right;\">\n",
       "      <th></th>\n",
       "      <th>Unnamed: 0</th>\n",
       "      <th>Straße</th>\n",
       "      <th>PLZ</th>\n",
       "      <th>Ort</th>\n",
       "      <th>emp_land</th>\n",
       "      <th>Lat</th>\n",
       "      <th>Lon</th>\n",
       "      <th>Kategorie</th>\n",
       "      <th>Markiert</th>\n",
       "    </tr>\n",
       "  </thead>\n",
       "  <tbody>\n",
       "    <tr>\n",
       "      <th>0</th>\n",
       "      <td>0</td>\n",
       "      <td>REWESTR. 1</td>\n",
       "      <td>1683</td>\n",
       "      <td>STARBACH</td>\n",
       "      <td>D</td>\n",
       "      <td>51.086086</td>\n",
       "      <td>13.278351</td>\n",
       "      <td>Sehr Gut</td>\n",
       "      <td>NaN</td>\n",
       "    </tr>\n",
       "    <tr>\n",
       "      <th>1</th>\n",
       "      <td>1</td>\n",
       "      <td>RAIFFEISENSTR. 5-9</td>\n",
       "      <td>61191</td>\n",
       "      <td>ROSBACH</td>\n",
       "      <td>D</td>\n",
       "      <td>50.295350</td>\n",
       "      <td>8.687106</td>\n",
       "      <td>Sehr Gut</td>\n",
       "      <td>NaN</td>\n",
       "    </tr>\n",
       "    <tr>\n",
       "      <th>2</th>\n",
       "      <td>2</td>\n",
       "      <td>AM RÖMERFELD 6</td>\n",
       "      <td>71149</td>\n",
       "      <td>BONDORF</td>\n",
       "      <td>D</td>\n",
       "      <td>48.506751</td>\n",
       "      <td>8.836023</td>\n",
       "      <td>Sehr Gut</td>\n",
       "      <td>NaN</td>\n",
       "    </tr>\n",
       "    <tr>\n",
       "      <th>3</th>\n",
       "      <td>3</td>\n",
       "      <td>SEEBERGER STRASSE 10</td>\n",
       "      <td>15345</td>\n",
       "      <td>ALTLANDSBERG</td>\n",
       "      <td>D</td>\n",
       "      <td>52.548581</td>\n",
       "      <td>13.694739</td>\n",
       "      <td>Sehr Gut</td>\n",
       "      <td>NaN</td>\n",
       "    </tr>\n",
       "    <tr>\n",
       "      <th>4</th>\n",
       "      <td>4</td>\n",
       "      <td>IN DEN WEINÄCKERN 1</td>\n",
       "      <td>69168</td>\n",
       "      <td>WIESLOCH</td>\n",
       "      <td>D</td>\n",
       "      <td>49.296811</td>\n",
       "      <td>8.668717</td>\n",
       "      <td>Sehr Gut</td>\n",
       "      <td>NaN</td>\n",
       "    </tr>\n",
       "  </tbody>\n",
       "</table>\n",
       "</div>"
      ],
      "text/plain": [
       "   Unnamed: 0                Straße    PLZ  ...        Lon Kategorie  Markiert\n",
       "0           0            REWESTR. 1   1683  ...  13.278351  Sehr Gut       NaN\n",
       "1           1    RAIFFEISENSTR. 5-9  61191  ...   8.687106  Sehr Gut       NaN\n",
       "2           2        AM RÖMERFELD 6  71149  ...   8.836023  Sehr Gut       NaN\n",
       "3           3  SEEBERGER STRASSE 10  15345  ...  13.694739  Sehr Gut       NaN\n",
       "4           4   IN DEN WEINÄCKERN 1  69168  ...   8.668717  Sehr Gut       NaN\n",
       "\n",
       "[5 rows x 9 columns]"
      ]
     },
     "execution_count": 76,
     "metadata": {},
     "output_type": "execute_result"
    }
   ],
   "source": [
    "data.head()"
   ]
  },
  {
   "cell_type": "code",
   "execution_count": 77,
   "metadata": {},
   "outputs": [
    {
     "name": "stdout",
     "output_type": "stream",
     "text": [
      "<class 'pandas.core.frame.DataFrame'>\n",
      "RangeIndex: 21433 entries, 0 to 21432\n",
      "Data columns (total 9 columns):\n",
      "Unnamed: 0    21433 non-null int64\n",
      "Straße        21433 non-null object\n",
      "PLZ           21433 non-null int64\n",
      "Ort           21433 non-null object\n",
      "emp_land      21433 non-null object\n",
      "Lat           21433 non-null float64\n",
      "Lon           21433 non-null float64\n",
      "Kategorie     965 non-null object\n",
      "Markiert      19 non-null object\n",
      "dtypes: float64(2), int64(2), object(5)\n",
      "memory usage: 1.5+ MB\n"
     ]
    }
   ],
   "source": [
    "# Quick summary of data\n",
    "data.info()"
   ]
  },
  {
   "cell_type": "code",
   "execution_count": 78,
   "metadata": {},
   "outputs": [],
   "source": [
    "# we only need rows that have been labeled, therefore not having a \n",
    "# null value in column \"Kategorie\"\n",
    "data = data[data.Kategorie.notnull()]"
   ]
  },
  {
   "cell_type": "code",
   "execution_count": 79,
   "metadata": {},
   "outputs": [
    {
     "name": "stdout",
     "output_type": "stream",
     "text": [
      "<class 'pandas.core.frame.DataFrame'>\n",
      "Int64Index: 965 entries, 0 to 964\n",
      "Data columns (total 9 columns):\n",
      "Unnamed: 0    965 non-null int64\n",
      "Straße        965 non-null object\n",
      "PLZ           965 non-null int64\n",
      "Ort           965 non-null object\n",
      "emp_land      965 non-null object\n",
      "Lat           965 non-null float64\n",
      "Lon           965 non-null float64\n",
      "Kategorie     965 non-null object\n",
      "Markiert      19 non-null object\n",
      "dtypes: float64(2), int64(2), object(5)\n",
      "memory usage: 75.4+ KB\n"
     ]
    }
   ],
   "source": [
    "# A total of 965 entries have been successfully labeled. \n",
    "# We continue by only using these 965 locations.\n",
    "data.info()"
   ]
  },
  {
   "cell_type": "code",
   "execution_count": 80,
   "metadata": {},
   "outputs": [],
   "source": [
    "# Retrieve all possible classes\n",
    "classes = data.Kategorie.unique()"
   ]
  },
  {
   "cell_type": "code",
   "execution_count": 81,
   "metadata": {},
   "outputs": [
    {
     "data": {
      "text/plain": [
       "array(['Sehr Gut', 'Mittel', 'Gut', 'Schlecht'], dtype=object)"
      ]
     },
     "execution_count": 81,
     "metadata": {},
     "output_type": "execute_result"
    }
   ],
   "source": [
    "classes"
   ]
  },
  {
   "cell_type": "code",
   "execution_count": 82,
   "metadata": {},
   "outputs": [],
   "source": [
    "# create a subfolder in our output directory for each category\n",
    "# if the folder already exists, delete all images currently in it\n",
    "for c in classes:\n",
    "    if not os.path.exists(output_dir/c):\n",
    "        os.makedirs(output_dir/c)\n",
    "    else:\n",
    "        shutil.rmtree(output_dir/c)\n",
    "        os.makedirs(output_dir/c)"
   ]
  },
  {
   "cell_type": "code",
   "execution_count": 84,
   "metadata": {},
   "outputs": [],
   "source": [
    "# Retrieve image for each row in our dataset by using the Bing API\n",
    "counter = 0\n",
    "for idx, row in data.iterrows(): # iterate over dataset\n",
    "    url = bing_url.format(lat=row[\"Lat\"], \n",
    "                          lon=row[\"Lon\"], \n",
    "                          width=WIDTH, \n",
    "                          height=HEIGHT, \n",
    "                          api_key=KEY\n",
    "                         ) # create URL\n",
    "    fname = \"image{num}.jpeg\".format(num=counter)\n",
    "    \n",
    "    # retrieve image and save to subfolder\n",
    "    urllib.request.urlretrieve(url, output_dir/row[\"Kategorie\"]/fname) \n",
    "    if counter % 10 == 0: # wait for 5 seconds after 10 images\n",
    "        time.sleep(5) # to avoid rate limiting\n",
    "    counter += 1"
   ]
  },
  {
   "cell_type": "markdown",
   "metadata": {},
   "source": [
    "## Method 2 (slow): Retrieve High Resolution Aerial Images stitched together using Bing Map Tile System"
   ]
  },
  {
   "cell_type": "markdown",
   "metadata": {},
   "source": [
    "This method will take a long time but generates Images with a much higher resolution than the previous method. On top, it calculates a bounding box, which means that the coordinate pair will always be the central location in an image and the radius will always be static for each image.\n",
    "\n",
    "It should be used if really high resolution imagery is required for certain tasks."
   ]
  },
  {
   "cell_type": "code",
   "execution_count": null,
   "metadata": {},
   "outputs": [],
   "source": [
    "import subprocess"
   ]
  },
  {
   "cell_type": "code",
   "execution_count": null,
   "metadata": {},
   "outputs": [],
   "source": [
    "# define path toBing Map Tile System script\n",
    "# Python Implementation for Map Tile System can be found \n",
    "# @GitHub: https://github.com/jpkunkler/Bing_Aerial_API\n",
    "script = r\"Bing_Aerial_API/imageRetrieval.py\""
   ]
  },
  {
   "cell_type": "code",
   "execution_count": null,
   "metadata": {},
   "outputs": [],
   "source": [
    "# Go through dataset row by row\n",
    "for idx, row in data.iterrows():\n",
    "    out_path = output_dir/row[\"Kategorie\"]\n",
    "    \n",
    "    # use subprocess to call script with required parameters\n",
    "    p = subprocess.Popen(['python', script, str(row[\"Lat\"]), \n",
    "                          str(row[\"Lon\"]), \n",
    "                          out_path]\n",
    "                        )\n",
    "    p.wait() # wait until subprocess has finished retrieving the image\n",
    "\n",
    "    print(\"Proceeding to next row. Please stand bye.\")"
   ]
  }
 ],
 "metadata": {
  "kernelspec": {
   "display_name": "fastai",
   "language": "python",
   "name": "fastai"
  },
  "language_info": {
   "codemirror_mode": {
    "name": "ipython",
    "version": 3
   },
   "file_extension": ".py",
   "mimetype": "text/x-python",
   "name": "python",
   "nbconvert_exporter": "python",
   "pygments_lexer": "ipython3",
   "version": "3.7.3"
  }
 },
 "nbformat": 4,
 "nbformat_minor": 2
}

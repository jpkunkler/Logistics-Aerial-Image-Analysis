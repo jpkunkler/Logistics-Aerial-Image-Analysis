{
 "cells": [
  {
   "cell_type": "code",
   "execution_count": 1,
   "metadata": {},
   "outputs": [],
   "source": [
    "from fastai import *\n",
    "from fastai.vision import *\n",
    "from torch import topk\n",
    "import urllib.request\n",
    "import requests\n",
    "import json"
   ]
  },
  {
   "cell_type": "code",
   "execution_count": 2,
   "metadata": {},
   "outputs": [],
   "source": [
    "classes = ['Gut', 'Mittel', 'Schlecht', 'Sehr_Gut']"
   ]
  },
  {
   "cell_type": "code",
   "execution_count": 3,
   "metadata": {},
   "outputs": [],
   "source": [
    "learn = load_learner(\"data_dir\")"
   ]
  },
  {
   "cell_type": "code",
   "execution_count": 4,
   "metadata": {},
   "outputs": [],
   "source": [
    "mapbox_key = \"pk.eyJ1IjoianBrdW5rbGVyIiwiYSI6ImNqZzB0MjFjNDBiam8ycXFweGlnMThmbG8ifQ.vA1aff3tTCIX_zQsPj0cTg\""
   ]
  },
  {
   "cell_type": "code",
   "execution_count": 5,
   "metadata": {},
   "outputs": [],
   "source": [
    "test_addr = \"Bajuwarenstraße 11, 93053 Regensburg\""
   ]
  },
  {
   "cell_type": "code",
   "execution_count": 6,
   "metadata": {},
   "outputs": [],
   "source": [
    "def geocode(addr, api_key):\n",
    "    \"\"\"Use Mapbox Geocoding Service to retrieve coordinate pair for given address.\"\"\"\n",
    "    base_url = \"https://api.mapbox.com/geocoding/v5/mapbox.places/{address}.json\"\\\n",
    "                \"?access_token={API_KEY}&language=de\"\n",
    "    headers = {'Content-Type': 'application/json',\n",
    "           'Authorization': 'Bearer {0}'.format(api_key)}\n",
    "    url = base_url.format(address=addr, API_KEY = api_key)\n",
    "    \n",
    "    response = requests.get(url.format(address=addr, API_KEY = mapbox_key), \n",
    "                            headers = headers)\n",
    "    \n",
    "    if response.status_code == 200:\n",
    "        data = json.loads(response.content.decode('utf-8'))\n",
    "        most_relevant = data[\"features\"][0]\n",
    "        if most_relevant[\"relevance\"] < 0.8:\n",
    "            return (None, None)\n",
    "        \n",
    "        lng = most_relevant[\"center\"][0]\n",
    "        lat = most_relevant[\"center\"][1]\n",
    "        rel = most_relevant[\"relevance\"]\n",
    "        return (lat, lng, rel)\n",
    "    else:\n",
    "        return (None, None)"
   ]
  },
  {
   "cell_type": "code",
   "execution_count": 7,
   "metadata": {},
   "outputs": [],
   "source": [
    "def classifyLocation(lat, lng, relevance):\n",
    "    \"\"\"Classify location specified by coordinate pair using our trained CNN model.\"\"\"\n",
    "    width, height = 300, 500\n",
    "    img_base_url = \"https://dev.virtualearth.net/REST/v1/Imagery/Map/Aerial/\"\\\n",
    "                    \"{lat},{lon}/17?ms={width},{height}&od=1&c=de-DE\"\\\n",
    "                    \"&key=AijbFhynMi9YlUoC5sbBKfrfbnkcMJ34sYBEORQwbsviodnw8nTkkgh5se5COtMs\"\n",
    "    url = img_base_url.format(lat = lat, lon = lng, width = width, height = height)\n",
    "    with urllib.request.urlopen(url) as response:\n",
    "        f = BytesIO(response.read())\n",
    "    \n",
    "    img = open_image(f)\n",
    "    prediction = learn.predict(img)\n",
    "    prob, label = topk(prediction[2],len(classes))\n",
    "    inv_map = {v: k for k, v in learn.data.c2i.items()}\n",
    "    labels = list(map(inv_map.get,label.data.tolist()))\n",
    "    prob = [round(float(x),2) for x in prob.data.tolist()]\n",
    "    pred_dict = dict(zip(labels, prob))\n",
    "    output = dict({'prediction': pred_dict})\n",
    "    output.update({'result': str(prediction[0])})\n",
    "    output.update({'addr': {'coords': [lng, lat], 'relevance': relevance}})\n",
    "    \n",
    "    return json.dumps(output)"
   ]
  },
  {
   "cell_type": "code",
   "execution_count": 8,
   "metadata": {},
   "outputs": [
    {
     "data": {
      "text/plain": [
       "'{\"prediction\": {\"Sehr_Gut\": 0.83, \"Gut\": 0.1, \"Mittel\": 0.04, \"Schlecht\": 0.02}, \"result\": \"Sehr_Gut\", \"addr\": {\"coords\": [12.118396, 48.994655], \"relevance\": 1}}'"
      ]
     },
     "execution_count": 8,
     "metadata": {},
     "output_type": "execute_result"
    }
   ],
   "source": [
    "classifyLocation(*geocode(test_addr, mapbox_key)) # use tuple unpacking using asterisk *"
   ]
  },
  {
   "cell_type": "markdown",
   "metadata": {},
   "source": [
    "# API Test"
   ]
  },
  {
   "cell_type": "code",
   "execution_count": 9,
   "metadata": {},
   "outputs": [],
   "source": [
    "my_api = \"http://ma.jankunkler.de/api/v1.0/classify/{addr}?access_token={token}\""
   ]
  },
  {
   "cell_type": "code",
   "execution_count": 10,
   "metadata": {},
   "outputs": [],
   "source": [
    "my_api_key = \"4ab88b42-3a5c-4318-83a6-fca9d06efc4c\""
   ]
  },
  {
   "cell_type": "code",
   "execution_count": 11,
   "metadata": {},
   "outputs": [],
   "source": [
    "adressen = [\"ROBERT-BOSCH-STR. 40, 50769 KOELN\", \n",
    "            \"PRETZENER STRASSE 10, 85435 ERDING\",\n",
    "           \"Neupfarrplatz 8, Regensburg\",\n",
    "           \"SAARSTR. 92,54290 TRIER\",\n",
    "            \"Lotte-Branz-Str. 44, Regensburg\"\n",
    "           ]"
   ]
  },
  {
   "cell_type": "code",
   "execution_count": 12,
   "metadata": {},
   "outputs": [
    {
     "name": "stdout",
     "output_type": "stream",
     "text": [
      "Sehr_Gut\n",
      "Sehr_Gut\n",
      "Schlecht\n",
      "Schlecht\n",
      "Status Code:  400 Error: Could not find geolocation.\n"
     ]
    }
   ],
   "source": [
    "for addr in adressen:\n",
    "    url = my_api.format(addr=addr, token=my_api_key)\n",
    "    response = requests.get(url)\n",
    "    if response.status_code == 200:\n",
    "        data = json.loads(response.content)\n",
    "        print(data[\"result\"])\n",
    "    else:\n",
    "        data = json.loads(response.content)\n",
    "        print(\"Status Code: \", response.status_code, data[\"message\"])"
   ]
  },
  {
   "cell_type": "markdown",
   "metadata": {},
   "source": [
    "# Excel/CSV File Upload"
   ]
  },
  {
   "cell_type": "code",
   "execution_count": 13,
   "metadata": {},
   "outputs": [],
   "source": [
    "import pandas as pd\n",
    "import json"
   ]
  },
  {
   "cell_type": "code",
   "execution_count": 24,
   "metadata": {},
   "outputs": [],
   "source": [
    "def classifyExcel(file):\n",
    "    \n",
    "    addr_blueprint = \"{street}, {PLZ} {City}, Germany\"\n",
    "    cols = [\"Adresse\", \"Latitude\", \"Longitude\", \"Relevanz\", \n",
    "            \"Klassifizierung\", \"Wahrscheinlichkeit\"]\n",
    "    new_df = pd.DataFrame(columns=cols)\n",
    "    df = pd.read_excel(file)\n",
    "    # check if all required columns are present\n",
    "    if not all(elem in df.columns for elem in [\"Straße\", \"PLZ\", \"Ort\"]):\n",
    "        raise ValueError(\"Datensatz enthält nicht alle benötigten Spalten in korrektem Format.\")\n",
    "        \n",
    "    \n",
    "    for idx, location in df.iterrows():\n",
    "        str_addr = addr_blueprint.format(street=location[\"Straße\"], \n",
    "                                         PLZ=location[\"PLZ\"], \n",
    "                                         City=location[\"Ort\"])\n",
    "        result = classifyLocation(*geocode(str_addr, mapbox_key))\n",
    "        data = json.loads(result)\n",
    "        lat,lng = data[\"addr\"][\"coords\"]\n",
    "        relevance = data[\"addr\"][\"relevance\"]\n",
    "        pred = data[\"result\"]\n",
    "        prob = data[\"prediction\"][pred]\n",
    "        new_df.loc[idx] = [str_addr, lat, lng, relevance, pred.replace(\"_\", \" \"), prob]\n",
    "    \n",
    "    return new_df"
   ]
  },
  {
   "cell_type": "code",
   "execution_count": 25,
   "metadata": {},
   "outputs": [],
   "source": [
    "test = classifyExcel(\"data/teststandorte_regensburg.xlsx\")"
   ]
  },
  {
   "cell_type": "code",
   "execution_count": 26,
   "metadata": {},
   "outputs": [
    {
     "data": {
      "text/html": [
       "<div>\n",
       "<style scoped>\n",
       "    .dataframe tbody tr th:only-of-type {\n",
       "        vertical-align: middle;\n",
       "    }\n",
       "\n",
       "    .dataframe tbody tr th {\n",
       "        vertical-align: top;\n",
       "    }\n",
       "\n",
       "    .dataframe thead th {\n",
       "        text-align: right;\n",
       "    }\n",
       "</style>\n",
       "<table border=\"1\" class=\"dataframe\">\n",
       "  <thead>\n",
       "    <tr style=\"text-align: right;\">\n",
       "      <th></th>\n",
       "      <th>Adresse</th>\n",
       "      <th>Latitude</th>\n",
       "      <th>Longitude</th>\n",
       "      <th>Relevanz</th>\n",
       "      <th>Klassifizierung</th>\n",
       "      <th>Wahrscheinlichkeit</th>\n",
       "    </tr>\n",
       "  </thead>\n",
       "  <tbody>\n",
       "    <tr>\n",
       "      <th>0</th>\n",
       "      <td>Johann-Hösl-Straße 1, 93053 Regensburg, Germany</td>\n",
       "      <td>12.111314</td>\n",
       "      <td>48.994558</td>\n",
       "      <td>0.99</td>\n",
       "      <td>Sehr Gut</td>\n",
       "      <td>0.51</td>\n",
       "    </tr>\n",
       "    <tr>\n",
       "      <th>1</th>\n",
       "      <td>Franz-Hartl-Straße 1, 93053 Regensburg, Germany</td>\n",
       "      <td>12.109925</td>\n",
       "      <td>48.994072</td>\n",
       "      <td>0.99</td>\n",
       "      <td>Schlecht</td>\n",
       "      <td>0.54</td>\n",
       "    </tr>\n",
       "    <tr>\n",
       "      <th>2</th>\n",
       "      <td>Merowingerstraße 1, 93053 Regensburg, Germany</td>\n",
       "      <td>12.105550</td>\n",
       "      <td>48.993489</td>\n",
       "      <td>0.99</td>\n",
       "      <td>Gut</td>\n",
       "      <td>0.55</td>\n",
       "    </tr>\n",
       "    <tr>\n",
       "      <th>3</th>\n",
       "      <td>Bajuwarenstraße 11, 93053 Regensburg, Germany</td>\n",
       "      <td>12.118396</td>\n",
       "      <td>48.994655</td>\n",
       "      <td>0.99</td>\n",
       "      <td>Sehr Gut</td>\n",
       "      <td>0.83</td>\n",
       "    </tr>\n",
       "    <tr>\n",
       "      <th>4</th>\n",
       "      <td>Von-Seeckt-Straße 11, 93053 Regensburg, Germany</td>\n",
       "      <td>12.122505</td>\n",
       "      <td>49.000513</td>\n",
       "      <td>0.99</td>\n",
       "      <td>Schlecht</td>\n",
       "      <td>0.43</td>\n",
       "    </tr>\n",
       "    <tr>\n",
       "      <th>5</th>\n",
       "      <td>Erbprinz-Franz-Joseph-Straße 21, 93053 Regensb...</td>\n",
       "      <td>12.118282</td>\n",
       "      <td>49.002104</td>\n",
       "      <td>0.99</td>\n",
       "      <td>Schlecht</td>\n",
       "      <td>0.84</td>\n",
       "    </tr>\n",
       "    <tr>\n",
       "      <th>6</th>\n",
       "      <td>Hornstraße 6, 93053 Regensburg, Germany</td>\n",
       "      <td>12.115376</td>\n",
       "      <td>49.005072</td>\n",
       "      <td>0.99</td>\n",
       "      <td>Schlecht</td>\n",
       "      <td>0.47</td>\n",
       "    </tr>\n",
       "    <tr>\n",
       "      <th>7</th>\n",
       "      <td>Friedenstraße 23, 93053 Regensburg, Germany</td>\n",
       "      <td>12.099463</td>\n",
       "      <td>49.010704</td>\n",
       "      <td>0.99</td>\n",
       "      <td>Gut</td>\n",
       "      <td>0.63</td>\n",
       "    </tr>\n",
       "    <tr>\n",
       "      <th>8</th>\n",
       "      <td>Weiße-Lilien-Straße 13, 93047 Regensburg, Germany</td>\n",
       "      <td>12.098400</td>\n",
       "      <td>49.017035</td>\n",
       "      <td>0.99</td>\n",
       "      <td>Schlecht</td>\n",
       "      <td>0.96</td>\n",
       "    </tr>\n",
       "  </tbody>\n",
       "</table>\n",
       "</div>"
      ],
      "text/plain": [
       "                                             Adresse   Latitude  Longitude  \\\n",
       "0    Johann-Hösl-Straße 1, 93053 Regensburg, Germany  12.111314  48.994558   \n",
       "1    Franz-Hartl-Straße 1, 93053 Regensburg, Germany  12.109925  48.994072   \n",
       "2      Merowingerstraße 1, 93053 Regensburg, Germany  12.105550  48.993489   \n",
       "3      Bajuwarenstraße 11, 93053 Regensburg, Germany  12.118396  48.994655   \n",
       "4    Von-Seeckt-Straße 11, 93053 Regensburg, Germany  12.122505  49.000513   \n",
       "5  Erbprinz-Franz-Joseph-Straße 21, 93053 Regensb...  12.118282  49.002104   \n",
       "6            Hornstraße 6, 93053 Regensburg, Germany  12.115376  49.005072   \n",
       "7        Friedenstraße 23, 93053 Regensburg, Germany  12.099463  49.010704   \n",
       "8  Weiße-Lilien-Straße 13, 93047 Regensburg, Germany  12.098400  49.017035   \n",
       "\n",
       "   Relevanz Klassifizierung  Wahrscheinlichkeit  \n",
       "0      0.99        Sehr Gut                0.51  \n",
       "1      0.99        Schlecht                0.54  \n",
       "2      0.99             Gut                0.55  \n",
       "3      0.99        Sehr Gut                0.83  \n",
       "4      0.99        Schlecht                0.43  \n",
       "5      0.99        Schlecht                0.84  \n",
       "6      0.99        Schlecht                0.47  \n",
       "7      0.99             Gut                0.63  \n",
       "8      0.99        Schlecht                0.96  "
      ]
     },
     "execution_count": 26,
     "metadata": {},
     "output_type": "execute_result"
    }
   ],
   "source": [
    "test"
   ]
  }
 ],
 "metadata": {
  "kernelspec": {
   "display_name": "fastai",
   "language": "python",
   "name": "fastai"
  },
  "language_info": {
   "codemirror_mode": {
    "name": "ipython",
    "version": 3
   },
   "file_extension": ".py",
   "mimetype": "text/x-python",
   "name": "python",
   "nbconvert_exporter": "python",
   "pygments_lexer": "ipython3",
   "version": "3.7.3"
  }
 },
 "nbformat": 4,
 "nbformat_minor": 2
}

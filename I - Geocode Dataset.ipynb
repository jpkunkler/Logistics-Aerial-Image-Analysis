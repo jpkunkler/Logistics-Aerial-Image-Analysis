{
 "cells": [
  {
   "cell_type": "markdown",
   "metadata": {},
   "source": [
    "# Using Geocoding to convert Street Addresses to Coordinate Pairs"
   ]
  },
  {
   "cell_type": "markdown",
   "metadata": {},
   "source": [
    "The following script is used to convert street addresses as provided in the Excel File to coordinate pairs of format (Lat, Lng).\n",
    "Using the python library \"geocoder\", a number of different Geocoding Service Providers can be accessed. In this case, the ArcGIS Service will be used as it delivers accurate results for Germany.\n",
    "\n",
    "This script requires the Excel Sheet to at least contain the following named columns:\n",
    "- PLZ [Zip Code for customer location]\n",
    "- Straße [Street Address for customer location]\n",
    "\n",
    "As well as two columns for the retrieved coordinates:\n",
    "- Lat [Latitude coordinate]\n",
    "- Lon [Longitude coordinate]"
   ]
  },
  {
   "cell_type": "code",
   "execution_count": null,
   "metadata": {},
   "outputs": [],
   "source": [
    "import pandas as pd\n",
    "import geocoder # install using \"pip install geocoder\"\n",
    "from fastai.vision import Path "
   ]
  },
  {
   "cell_type": "code",
   "execution_count": null,
   "metadata": {},
   "outputs": [],
   "source": [
    "# Set up Paths and files\n",
    "data_dir = Path(\"./data\") # excel file will be located under /data\n",
    "fname = \"Standorte.xlsx\" # Original file name\n",
    "fpath = data_dir/fname # full path to file"
   ]
  },
  {
   "cell_type": "code",
   "execution_count": null,
   "metadata": {},
   "outputs": [],
   "source": [
    "def arcgisGeocode(excel_file):\n",
    "    new_file = data_dir/\"standorte_geocoded.xlsx\"\n",
    "    df = pd.read_excel(excel_file, index_col=0) # read data from excel\n",
    "    df_new = df[df.isnull().any(axis=1)] # only geocode locations w/o coordinates\n",
    "    \n",
    "    counter = 0\n",
    "    for index, row in df_new.iterrows():\n",
    "        # geocode address strings to coordinate pairs using ArcGIS Service\n",
    "        g = geocoder.arcgis(str(row[\"PLZ\"]) + \",\" + \" \" + \n",
    "                            row[\"Straße\"] + \",\" + \"Germany\")\n",
    "    \n",
    "        # Update values in dataframe aka Excel Sheet\n",
    "        df_new.loc[index, 'Lat'] = g.json[\"lat\"]\n",
    "        df_new.loc[index, 'Lon'] = g.json[\"lng\"]\n",
    "\n",
    "        counter += 1\n",
    "        if counter % 50 == 0: # Intermediate save every 50 iterations\n",
    "            df.update(df_new)\n",
    "            df.to_excel(new_file)\n",
    "            print(\"Saved after {} locations.\".format(counter))\n",
    "    \n",
    "    # Save dataframe back to Excel as Excel Sheet\n",
    "    df.update(df_new)\n",
    "    df.to_excel(new_file)\n",
    "    print(\"Finished Geocoding!\")"
   ]
  },
  {
   "cell_type": "code",
   "execution_count": null,
   "metadata": {},
   "outputs": [],
   "source": [
    "arcgisGeocode(fpath)"
   ]
  }
 ],
 "metadata": {
  "kernelspec": {
   "display_name": "fastai",
   "language": "python",
   "name": "fastai"
  },
  "language_info": {
   "codemirror_mode": {
    "name": "ipython",
    "version": 3
   },
   "file_extension": ".py",
   "mimetype": "text/x-python",
   "name": "python",
   "nbconvert_exporter": "python",
   "pygments_lexer": "ipython3",
   "version": "3.7.3"
  }
 },
 "nbformat": 4,
 "nbformat_minor": 2
}
